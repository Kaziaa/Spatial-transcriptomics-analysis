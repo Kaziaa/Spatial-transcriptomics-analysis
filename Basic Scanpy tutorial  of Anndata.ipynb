{
 "cells": [
  {
   "cell_type": "markdown",
   "id": "ca2c890c",
   "metadata": {},
   "source": [
    "# Basic information about Scanpy anndata.\n",
    "### This tutorial is bascially a consise format of scanpy offical post. \n",
    "AnnData( \" Annotated Data\") is a matrix liked data where n numbe of observations which is represented as d-dimensional vectors. Both rows and columns of this n  x  d matrix are special in the sense that they are indexed."
   ]
  },
  {
   "cell_type": "code",
   "execution_count": null,
   "id": "40a2da12",
   "metadata": {},
   "outputs": [],
   "source": []
  },
  {
   "cell_type": "code",
   "execution_count": 1,
   "id": "c9e936ec",
   "metadata": {},
   "outputs": [
    {
     "name": "stdout",
     "output_type": "stream",
     "text": [
      "0.10.9\n"
     ]
    }
   ],
   "source": [
    "# Import necessay libaries\n",
    "import numpy as np\n",
    "import pandas as pd\n",
    "import anndata as ad\n",
    "from scipy.sparse import csr_matrix\n",
    "print(ad.__version__)"
   ]
  },
  {
   "cell_type": "markdown",
   "id": "fd37593e",
   "metadata": {},
   "source": [
    "### Initializing AnnData\n",
    " Representing some gene expression counts using basic Anndata obbject."
   ]
  },
  {
   "cell_type": "code",
   "execution_count": 2,
   "id": "b6656fc5",
   "metadata": {},
   "outputs": [
    {
     "data": {
      "text/plain": [
       "AnnData object with n_obs × n_vars = 100 × 2000"
      ]
     },
     "execution_count": 2,
     "metadata": {},
     "output_type": "execute_result"
    }
   ],
   "source": [
    "counts = csr_matrix(np.random.poisson(1, size=(100, 2000)), dtype=np.float32)\n",
    "adata = ad.AnnData(counts)\n",
    "adata"
   ]
  },
  {
   "cell_type": "code",
   "execution_count": 3,
   "id": "80fa378a",
   "metadata": {},
   "outputs": [
    {
     "data": {
      "text/plain": [
       "<100x2000 sparse matrix of type '<class 'numpy.float32'>'\n",
       "\twith 126459 stored elements in Compressed Sparse Row format>"
      ]
     },
     "execution_count": 3,
     "metadata": {},
     "output_type": "execute_result"
    }
   ],
   "source": [
    "adata.X"
   ]
  },
  {
   "cell_type": "markdown",
   "id": "7a759758",
   "metadata": {},
   "source": [
    "Now we provide  the index to both the obs and var axes using. .obs_names (resp. .var_names)."
   ]
  },
  {
   "cell_type": "code",
   "execution_count": 4,
   "id": "7e35d34f",
   "metadata": {},
   "outputs": [
    {
     "name": "stdout",
     "output_type": "stream",
     "text": [
      "Index(['cell_0', 'cell_1', 'cell_2', 'cell_3', 'cell_4', 'cell_5', 'cell_6',\n",
      "       'cell_7', 'cell_8', 'cell_9'],\n",
      "      dtype='object')\n",
      "Index(['gene_0', 'gene_1', 'gene_2', 'gene_3', 'gene_4', 'gene_5', 'gene_6',\n",
      "       'gene_7', 'gene_8', 'gene_9'],\n",
      "      dtype='object')\n"
     ]
    }
   ],
   "source": [
    "adata.obs_names = [f\"cell_{i:d}\" for i in range(adata.n_obs)]\n",
    "adata.var_names = [f\"gene_{i:d}\" for i in range(adata.n_vars)]\n",
    "print(adata.obs_names[:10])\n",
    "print(adata.var_names[:10])"
   ]
  },
  {
   "cell_type": "code",
   "execution_count": 5,
   "id": "020dda3c",
   "metadata": {},
   "outputs": [
    {
     "data": {
      "text/plain": [
       "Index(['gene_0', 'gene_1', 'gene_2', 'gene_3', 'gene_4'], dtype='object')"
      ]
     },
     "execution_count": 5,
     "metadata": {},
     "output_type": "execute_result"
    }
   ],
   "source": [
    "adata.var_names[:5]"
   ]
  },
  {
   "cell_type": "code",
   "execution_count": 6,
   "id": "cd7ac2fb",
   "metadata": {},
   "outputs": [
    {
     "data": {
      "text/plain": [
       "Index(['cell_0', 'cell_1', 'cell_2', 'cell_3', 'cell_4'], dtype='object')"
      ]
     },
     "execution_count": 6,
     "metadata": {},
     "output_type": "execute_result"
    }
   ],
   "source": [
    "adata.obs_names[:5]"
   ]
  },
  {
   "cell_type": "markdown",
   "id": "fe72fbef",
   "metadata": {},
   "source": [
    "### Subsetting AnnData\n",
    "AnnData subsetting is quite similar to pnasdas data frame. one can values in the `obs/var_names`, boolean maksrs or cell index integers."
   ]
  },
  {
   "cell_type": "markdown",
   "id": "900081c6",
   "metadata": {},
   "source": [
    "### Adding aligned meta data\n",
    "#### Observation/Variable level\n"
   ]
  },
  {
   "cell_type": "raw",
   "id": "625c008d",
   "metadata": {},
   "source": [
    "ct = np.random.choice([\"B\", \"T\", \"Monocyte\"], size=(adata.n_obs,))\n",
    "adata.obs[\"cell_type\"] = pd.Categorical(ct) # Categoricals are preferred for efficiency.\n",
    "adata.obs"
   ]
  },
  {
   "cell_type": "code",
   "execution_count": 15,
   "id": "d7ce3b7a",
   "metadata": {},
   "outputs": [
    {
     "data": {
      "text/plain": [
       "AnnData object with n_obs × n_vars = 100 × 2000\n",
       "    obs: 'cell_type'"
      ]
     },
     "execution_count": 15,
     "metadata": {},
     "output_type": "execute_result"
    }
   ],
   "source": [
    "adata"
   ]
  },
  {
   "cell_type": "markdown",
   "id": "f49c4250",
   "metadata": {},
   "source": [
    "### Subsetting using metadata"
   ]
  },
  {
   "cell_type": "code",
   "execution_count": 17,
   "id": "ed69867b",
   "metadata": {},
   "outputs": [
    {
     "data": {
      "text/plain": [
       "View of AnnData object with n_obs × n_vars = 28 × 2000\n",
       "    obs: 'cell_type'"
      ]
     },
     "execution_count": 17,
     "metadata": {},
     "output_type": "execute_result"
    }
   ],
   "source": [
    "bdata = adata[adata.obs.cell_type == \"B\"]\n",
    "bdata"
   ]
  },
  {
   "cell_type": "markdown",
   "id": "d2d12b86",
   "metadata": {},
   "source": [
    "### Observation/vaiable-Level matrices\n",
    "AnnData has the `.obsm/.varm` attributes. here keys are used to identify different matrices whas has insert.\n",
    "S and Scanpy"
   ]
  },
  {
   "cell_type": "code",
   "execution_count": 25,
   "id": "76e6625a",
   "metadata": {},
   "outputs": [
    {
     "data": {
      "text/plain": [
       "AxisArrays with keys: X_umap"
      ]
     },
     "execution_count": 25,
     "metadata": {},
     "output_type": "execute_result"
    }
   ],
   "source": [
    "adata.obsm[\"X_umap\"] = np.random.normal(0, 1, size=(adata.n_obs, 2))\n",
    "adata.varm[\"gene_stuff\"] = np.random.normal(0, 1, size=(adata.n_vars, 5))\n",
    "adata.obsm\n"
   ]
  },
  {
   "cell_type": "code",
   "execution_count": 27,
   "id": "52e76aa3",
   "metadata": {},
   "outputs": [
    {
     "data": {
      "text/plain": [
       "AnnData object with n_obs × n_vars = 100 × 2000\n",
       "    obs: 'cell_type'\n",
       "    obsm: 'X_umap'\n",
       "    varm: 'gene_stuff'"
      ]
     },
     "execution_count": 27,
     "metadata": {},
     "output_type": "execute_result"
    }
   ],
   "source": [
    "adata"
   ]
  },
  {
   "cell_type": "markdown",
   "id": "9cfd344d",
   "metadata": {},
   "source": [
    "### Unstructured metadata\n",
    "AnnData has `.uns`, which allows for any unstructured metadata. This can be anything, like a list or a dictionary with some general information that was useful in the analysis of our data.\n",
    "\n"
   ]
  },
  {
   "cell_type": "code",
   "execution_count": 29,
   "id": "78297d28",
   "metadata": {},
   "outputs": [
    {
     "data": {
      "text/plain": [
       "OrderedDict([('random', [1, 2, 3])])"
      ]
     },
     "execution_count": 29,
     "metadata": {},
     "output_type": "execute_result"
    }
   ],
   "source": [
    "adata.uns[\"random\"] = [1,2,3]\n",
    "adata.uns"
   ]
  },
  {
   "cell_type": "markdown",
   "id": "932f516a",
   "metadata": {},
   "source": [
    "### Layers\n",
    "Finally, we may have different forms of our original core data, perhaps one that is normalized and one that is not. These can be stored in different layers in AnnData. For example, let’s log transform the original data and store it in a layer:"
   ]
  },
  {
   "cell_type": "code",
   "execution_count": 31,
   "id": "37f81c86",
   "metadata": {},
   "outputs": [
    {
     "data": {
      "text/plain": [
       "AnnData object with n_obs × n_vars = 100 × 2000\n",
       "    obs: 'cell_type'\n",
       "    uns: 'random'\n",
       "    obsm: 'X_umap'\n",
       "    varm: 'gene_stuff'\n",
       "    layers: 'log_transformerd'"
      ]
     },
     "execution_count": 31,
     "metadata": {},
     "output_type": "execute_result"
    }
   ],
   "source": [
    "adata.layers[\"log_transformerd\"] = np.log1p(adata.X)\n",
    "adata"
   ]
  },
  {
   "cell_type": "markdown",
   "id": "152ae9f7",
   "metadata": {},
   "source": [
    "### Conversion to DataFrames\n",
    "We can also ask AnnData to return us a DataFrame from one of the layers:"
   ]
  },
  {
   "cell_type": "code",
   "execution_count": 35,
   "id": "258948e7",
   "metadata": {},
   "outputs": [
    {
     "data": {
      "text/html": [
       "<div>\n",
       "<style scoped>\n",
       "    .dataframe tbody tr th:only-of-type {\n",
       "        vertical-align: middle;\n",
       "    }\n",
       "\n",
       "    .dataframe tbody tr th {\n",
       "        vertical-align: top;\n",
       "    }\n",
       "\n",
       "    .dataframe thead th {\n",
       "        text-align: right;\n",
       "    }\n",
       "</style>\n",
       "<table border=\"1\" class=\"dataframe\">\n",
       "  <thead>\n",
       "    <tr style=\"text-align: right;\">\n",
       "      <th></th>\n",
       "      <th>gene_0</th>\n",
       "      <th>gene_1</th>\n",
       "      <th>gene_2</th>\n",
       "      <th>gene_3</th>\n",
       "      <th>gene_4</th>\n",
       "      <th>gene_5</th>\n",
       "      <th>gene_6</th>\n",
       "      <th>gene_7</th>\n",
       "      <th>gene_8</th>\n",
       "      <th>gene_9</th>\n",
       "      <th>...</th>\n",
       "      <th>gene_1990</th>\n",
       "      <th>gene_1991</th>\n",
       "      <th>gene_1992</th>\n",
       "      <th>gene_1993</th>\n",
       "      <th>gene_1994</th>\n",
       "      <th>gene_1995</th>\n",
       "      <th>gene_1996</th>\n",
       "      <th>gene_1997</th>\n",
       "      <th>gene_1998</th>\n",
       "      <th>gene_1999</th>\n",
       "    </tr>\n",
       "  </thead>\n",
       "  <tbody>\n",
       "    <tr>\n",
       "      <th>cell_0</th>\n",
       "      <td>0.693147</td>\n",
       "      <td>0.693147</td>\n",
       "      <td>0.000000</td>\n",
       "      <td>0.000000</td>\n",
       "      <td>1.609438</td>\n",
       "      <td>1.098612</td>\n",
       "      <td>1.098612</td>\n",
       "      <td>0.693147</td>\n",
       "      <td>0.000000</td>\n",
       "      <td>0.693147</td>\n",
       "      <td>...</td>\n",
       "      <td>0.000000</td>\n",
       "      <td>0.693147</td>\n",
       "      <td>1.609438</td>\n",
       "      <td>0.693147</td>\n",
       "      <td>0.000000</td>\n",
       "      <td>0.000000</td>\n",
       "      <td>0.000000</td>\n",
       "      <td>1.098612</td>\n",
       "      <td>0.693147</td>\n",
       "      <td>0.693147</td>\n",
       "    </tr>\n",
       "    <tr>\n",
       "      <th>cell_1</th>\n",
       "      <td>0.693147</td>\n",
       "      <td>0.000000</td>\n",
       "      <td>0.000000</td>\n",
       "      <td>0.000000</td>\n",
       "      <td>0.000000</td>\n",
       "      <td>0.693147</td>\n",
       "      <td>0.000000</td>\n",
       "      <td>1.098612</td>\n",
       "      <td>0.693147</td>\n",
       "      <td>0.693147</td>\n",
       "      <td>...</td>\n",
       "      <td>1.098612</td>\n",
       "      <td>0.693147</td>\n",
       "      <td>0.693147</td>\n",
       "      <td>0.000000</td>\n",
       "      <td>0.693147</td>\n",
       "      <td>0.000000</td>\n",
       "      <td>1.609438</td>\n",
       "      <td>0.693147</td>\n",
       "      <td>1.098612</td>\n",
       "      <td>0.693147</td>\n",
       "    </tr>\n",
       "    <tr>\n",
       "      <th>cell_2</th>\n",
       "      <td>0.000000</td>\n",
       "      <td>1.098612</td>\n",
       "      <td>0.000000</td>\n",
       "      <td>0.000000</td>\n",
       "      <td>0.693147</td>\n",
       "      <td>0.000000</td>\n",
       "      <td>0.693147</td>\n",
       "      <td>1.098612</td>\n",
       "      <td>1.098612</td>\n",
       "      <td>0.693147</td>\n",
       "      <td>...</td>\n",
       "      <td>0.693147</td>\n",
       "      <td>1.098612</td>\n",
       "      <td>0.693147</td>\n",
       "      <td>0.693147</td>\n",
       "      <td>0.000000</td>\n",
       "      <td>1.098612</td>\n",
       "      <td>0.693147</td>\n",
       "      <td>1.386294</td>\n",
       "      <td>0.693147</td>\n",
       "      <td>0.000000</td>\n",
       "    </tr>\n",
       "    <tr>\n",
       "      <th>cell_3</th>\n",
       "      <td>0.000000</td>\n",
       "      <td>0.693147</td>\n",
       "      <td>0.000000</td>\n",
       "      <td>0.000000</td>\n",
       "      <td>0.000000</td>\n",
       "      <td>0.693147</td>\n",
       "      <td>1.098612</td>\n",
       "      <td>1.386294</td>\n",
       "      <td>1.386294</td>\n",
       "      <td>1.098612</td>\n",
       "      <td>...</td>\n",
       "      <td>1.098612</td>\n",
       "      <td>0.693147</td>\n",
       "      <td>0.693147</td>\n",
       "      <td>0.000000</td>\n",
       "      <td>0.693147</td>\n",
       "      <td>1.098612</td>\n",
       "      <td>0.693147</td>\n",
       "      <td>1.386294</td>\n",
       "      <td>0.000000</td>\n",
       "      <td>0.000000</td>\n",
       "    </tr>\n",
       "    <tr>\n",
       "      <th>cell_4</th>\n",
       "      <td>1.098612</td>\n",
       "      <td>0.000000</td>\n",
       "      <td>0.693147</td>\n",
       "      <td>0.693147</td>\n",
       "      <td>0.693147</td>\n",
       "      <td>1.386294</td>\n",
       "      <td>0.000000</td>\n",
       "      <td>1.098612</td>\n",
       "      <td>0.000000</td>\n",
       "      <td>0.000000</td>\n",
       "      <td>...</td>\n",
       "      <td>0.000000</td>\n",
       "      <td>0.000000</td>\n",
       "      <td>1.098612</td>\n",
       "      <td>1.386294</td>\n",
       "      <td>0.000000</td>\n",
       "      <td>0.000000</td>\n",
       "      <td>0.000000</td>\n",
       "      <td>0.693147</td>\n",
       "      <td>0.693147</td>\n",
       "      <td>1.098612</td>\n",
       "    </tr>\n",
       "    <tr>\n",
       "      <th>...</th>\n",
       "      <td>...</td>\n",
       "      <td>...</td>\n",
       "      <td>...</td>\n",
       "      <td>...</td>\n",
       "      <td>...</td>\n",
       "      <td>...</td>\n",
       "      <td>...</td>\n",
       "      <td>...</td>\n",
       "      <td>...</td>\n",
       "      <td>...</td>\n",
       "      <td>...</td>\n",
       "      <td>...</td>\n",
       "      <td>...</td>\n",
       "      <td>...</td>\n",
       "      <td>...</td>\n",
       "      <td>...</td>\n",
       "      <td>...</td>\n",
       "      <td>...</td>\n",
       "      <td>...</td>\n",
       "      <td>...</td>\n",
       "      <td>...</td>\n",
       "    </tr>\n",
       "    <tr>\n",
       "      <th>cell_95</th>\n",
       "      <td>0.000000</td>\n",
       "      <td>0.693147</td>\n",
       "      <td>0.693147</td>\n",
       "      <td>0.693147</td>\n",
       "      <td>0.693147</td>\n",
       "      <td>0.000000</td>\n",
       "      <td>0.000000</td>\n",
       "      <td>0.693147</td>\n",
       "      <td>1.386294</td>\n",
       "      <td>1.098612</td>\n",
       "      <td>...</td>\n",
       "      <td>0.000000</td>\n",
       "      <td>0.000000</td>\n",
       "      <td>0.693147</td>\n",
       "      <td>0.693147</td>\n",
       "      <td>0.693147</td>\n",
       "      <td>0.693147</td>\n",
       "      <td>0.693147</td>\n",
       "      <td>0.693147</td>\n",
       "      <td>0.693147</td>\n",
       "      <td>0.693147</td>\n",
       "    </tr>\n",
       "    <tr>\n",
       "      <th>cell_96</th>\n",
       "      <td>0.000000</td>\n",
       "      <td>1.386294</td>\n",
       "      <td>0.000000</td>\n",
       "      <td>0.000000</td>\n",
       "      <td>1.098612</td>\n",
       "      <td>0.693147</td>\n",
       "      <td>0.693147</td>\n",
       "      <td>0.000000</td>\n",
       "      <td>0.693147</td>\n",
       "      <td>1.098612</td>\n",
       "      <td>...</td>\n",
       "      <td>1.386294</td>\n",
       "      <td>0.000000</td>\n",
       "      <td>0.000000</td>\n",
       "      <td>0.000000</td>\n",
       "      <td>0.693147</td>\n",
       "      <td>1.386294</td>\n",
       "      <td>0.000000</td>\n",
       "      <td>0.000000</td>\n",
       "      <td>0.000000</td>\n",
       "      <td>0.000000</td>\n",
       "    </tr>\n",
       "    <tr>\n",
       "      <th>cell_97</th>\n",
       "      <td>0.693147</td>\n",
       "      <td>0.000000</td>\n",
       "      <td>1.386294</td>\n",
       "      <td>0.000000</td>\n",
       "      <td>0.693147</td>\n",
       "      <td>1.098612</td>\n",
       "      <td>0.000000</td>\n",
       "      <td>0.693147</td>\n",
       "      <td>0.000000</td>\n",
       "      <td>0.000000</td>\n",
       "      <td>...</td>\n",
       "      <td>0.693147</td>\n",
       "      <td>0.000000</td>\n",
       "      <td>0.693147</td>\n",
       "      <td>0.693147</td>\n",
       "      <td>0.000000</td>\n",
       "      <td>0.693147</td>\n",
       "      <td>0.000000</td>\n",
       "      <td>0.000000</td>\n",
       "      <td>0.000000</td>\n",
       "      <td>0.000000</td>\n",
       "    </tr>\n",
       "    <tr>\n",
       "      <th>cell_98</th>\n",
       "      <td>0.000000</td>\n",
       "      <td>0.000000</td>\n",
       "      <td>0.000000</td>\n",
       "      <td>0.000000</td>\n",
       "      <td>0.693147</td>\n",
       "      <td>0.000000</td>\n",
       "      <td>0.693147</td>\n",
       "      <td>0.693147</td>\n",
       "      <td>0.693147</td>\n",
       "      <td>0.000000</td>\n",
       "      <td>...</td>\n",
       "      <td>0.693147</td>\n",
       "      <td>0.693147</td>\n",
       "      <td>0.000000</td>\n",
       "      <td>0.693147</td>\n",
       "      <td>0.693147</td>\n",
       "      <td>0.693147</td>\n",
       "      <td>0.693147</td>\n",
       "      <td>0.000000</td>\n",
       "      <td>0.693147</td>\n",
       "      <td>0.000000</td>\n",
       "    </tr>\n",
       "    <tr>\n",
       "      <th>cell_99</th>\n",
       "      <td>0.000000</td>\n",
       "      <td>0.693147</td>\n",
       "      <td>0.000000</td>\n",
       "      <td>1.386294</td>\n",
       "      <td>0.693147</td>\n",
       "      <td>0.000000</td>\n",
       "      <td>0.000000</td>\n",
       "      <td>0.693147</td>\n",
       "      <td>0.000000</td>\n",
       "      <td>0.693147</td>\n",
       "      <td>...</td>\n",
       "      <td>0.693147</td>\n",
       "      <td>0.000000</td>\n",
       "      <td>0.693147</td>\n",
       "      <td>1.791759</td>\n",
       "      <td>0.693147</td>\n",
       "      <td>0.000000</td>\n",
       "      <td>1.098612</td>\n",
       "      <td>0.000000</td>\n",
       "      <td>0.000000</td>\n",
       "      <td>1.609438</td>\n",
       "    </tr>\n",
       "  </tbody>\n",
       "</table>\n",
       "<p>100 rows × 2000 columns</p>\n",
       "</div>"
      ],
      "text/plain": [
       "           gene_0    gene_1    gene_2    gene_3    gene_4    gene_5    gene_6  \\\n",
       "cell_0   0.693147  0.693147  0.000000  0.000000  1.609438  1.098612  1.098612   \n",
       "cell_1   0.693147  0.000000  0.000000  0.000000  0.000000  0.693147  0.000000   \n",
       "cell_2   0.000000  1.098612  0.000000  0.000000  0.693147  0.000000  0.693147   \n",
       "cell_3   0.000000  0.693147  0.000000  0.000000  0.000000  0.693147  1.098612   \n",
       "cell_4   1.098612  0.000000  0.693147  0.693147  0.693147  1.386294  0.000000   \n",
       "...           ...       ...       ...       ...       ...       ...       ...   \n",
       "cell_95  0.000000  0.693147  0.693147  0.693147  0.693147  0.000000  0.000000   \n",
       "cell_96  0.000000  1.386294  0.000000  0.000000  1.098612  0.693147  0.693147   \n",
       "cell_97  0.693147  0.000000  1.386294  0.000000  0.693147  1.098612  0.000000   \n",
       "cell_98  0.000000  0.000000  0.000000  0.000000  0.693147  0.000000  0.693147   \n",
       "cell_99  0.000000  0.693147  0.000000  1.386294  0.693147  0.000000  0.000000   \n",
       "\n",
       "           gene_7    gene_8    gene_9  ...  gene_1990  gene_1991  gene_1992  \\\n",
       "cell_0   0.693147  0.000000  0.693147  ...   0.000000   0.693147   1.609438   \n",
       "cell_1   1.098612  0.693147  0.693147  ...   1.098612   0.693147   0.693147   \n",
       "cell_2   1.098612  1.098612  0.693147  ...   0.693147   1.098612   0.693147   \n",
       "cell_3   1.386294  1.386294  1.098612  ...   1.098612   0.693147   0.693147   \n",
       "cell_4   1.098612  0.000000  0.000000  ...   0.000000   0.000000   1.098612   \n",
       "...           ...       ...       ...  ...        ...        ...        ...   \n",
       "cell_95  0.693147  1.386294  1.098612  ...   0.000000   0.000000   0.693147   \n",
       "cell_96  0.000000  0.693147  1.098612  ...   1.386294   0.000000   0.000000   \n",
       "cell_97  0.693147  0.000000  0.000000  ...   0.693147   0.000000   0.693147   \n",
       "cell_98  0.693147  0.693147  0.000000  ...   0.693147   0.693147   0.000000   \n",
       "cell_99  0.693147  0.000000  0.693147  ...   0.693147   0.000000   0.693147   \n",
       "\n",
       "         gene_1993  gene_1994  gene_1995  gene_1996  gene_1997  gene_1998  \\\n",
       "cell_0    0.693147   0.000000   0.000000   0.000000   1.098612   0.693147   \n",
       "cell_1    0.000000   0.693147   0.000000   1.609438   0.693147   1.098612   \n",
       "cell_2    0.693147   0.000000   1.098612   0.693147   1.386294   0.693147   \n",
       "cell_3    0.000000   0.693147   1.098612   0.693147   1.386294   0.000000   \n",
       "cell_4    1.386294   0.000000   0.000000   0.000000   0.693147   0.693147   \n",
       "...            ...        ...        ...        ...        ...        ...   \n",
       "cell_95   0.693147   0.693147   0.693147   0.693147   0.693147   0.693147   \n",
       "cell_96   0.000000   0.693147   1.386294   0.000000   0.000000   0.000000   \n",
       "cell_97   0.693147   0.000000   0.693147   0.000000   0.000000   0.000000   \n",
       "cell_98   0.693147   0.693147   0.693147   0.693147   0.000000   0.693147   \n",
       "cell_99   1.791759   0.693147   0.000000   1.098612   0.000000   0.000000   \n",
       "\n",
       "         gene_1999  \n",
       "cell_0    0.693147  \n",
       "cell_1    0.693147  \n",
       "cell_2    0.000000  \n",
       "cell_3    0.000000  \n",
       "cell_4    1.098612  \n",
       "...            ...  \n",
       "cell_95   0.693147  \n",
       "cell_96   0.000000  \n",
       "cell_97   0.000000  \n",
       "cell_98   0.000000  \n",
       "cell_99   1.609438  \n",
       "\n",
       "[100 rows x 2000 columns]"
      ]
     },
     "execution_count": 35,
     "metadata": {},
     "output_type": "execute_result"
    }
   ],
   "source": [
    "adata.to_df(layer=\"log_transformerd\") \n"
   ]
  },
  {
   "cell_type": "markdown",
   "id": "60bfdb55",
   "metadata": {},
   "source": [
    "# Writing the results to disk\n",
    "AnnData comes with its own persistent HDF5-based file format: h5ad. If string columns with small number of categories aren’t yet categoricals, AnnData will auto-transform to categoricals."
   ]
  },
  {
   "cell_type": "code",
   "execution_count": 36,
   "id": "610ae80e",
   "metadata": {},
   "outputs": [],
   "source": [
    "adata.write('first_results.h5ad', compression=\"gzip\")"
   ]
  },
  {
   "cell_type": "code",
   "execution_count": 37,
   "id": "d5315c51",
   "metadata": {},
   "outputs": [
    {
     "name": "stdout",
     "output_type": "stream",
     "text": [
      "/bin/bash: line 1: h5ls: command not found\r\n"
     ]
    }
   ],
   "source": [
    "!h5ls 'first_results.h5ad'"
   ]
  },
  {
   "cell_type": "markdown",
   "id": "c979a8b7",
   "metadata": {},
   "source": [
    "# Partial reading of large data"
   ]
  },
  {
   "cell_type": "code",
   "execution_count": 38,
   "id": "37ca02b6",
   "metadata": {},
   "outputs": [
    {
     "name": "stderr",
     "output_type": "stream",
     "text": [
      "/home/user/miniconda3/envs/scanpy-env/lib/python3.9/site-packages/anndata/__init__.py:55: FutureWarning: `anndata.read` is deprecated, use `anndata.read_h5ad` instead. `ad.read` will be removed in mid 2024.\n",
      "  warnings.warn(\n"
     ]
    }
   ],
   "source": [
    "adata = ad.read('first_results.h5ad', backed = \"r\")"
   ]
  },
  {
   "cell_type": "code",
   "execution_count": 39,
   "id": "b5834e69",
   "metadata": {},
   "outputs": [
    {
     "data": {
      "text/plain": [
       "True"
      ]
     },
     "execution_count": 39,
     "metadata": {},
     "output_type": "execute_result"
    }
   ],
   "source": [
    "adata.isbacked"
   ]
  },
  {
   "cell_type": "code",
   "execution_count": 40,
   "id": "e481c1a5",
   "metadata": {},
   "outputs": [
    {
     "data": {
      "text/plain": [
       "PosixPath('first_results.h5ad')"
      ]
     },
     "execution_count": 40,
     "metadata": {},
     "output_type": "execute_result"
    }
   ],
   "source": [
    "adata.filename"
   ]
  },
  {
   "cell_type": "code",
   "execution_count": 41,
   "id": "c8d2fc80",
   "metadata": {},
   "outputs": [],
   "source": [
    "adata.file.close()"
   ]
  },
  {
   "cell_type": "code",
   "execution_count": null,
   "id": "3b93429e",
   "metadata": {},
   "outputs": [],
   "source": [
    "outvdwo12\n",
    "linkresearche"
   ]
  }
 ],
 "metadata": {
  "kernelspec": {
   "display_name": "Python (scanpy-env)",
   "language": "python",
   "name": "scanpy-env"
  },
  "language_info": {
   "codemirror_mode": {
    "name": "ipython",
    "version": 3
   },
   "file_extension": ".py",
   "mimetype": "text/x-python",
   "name": "python",
   "nbconvert_exporter": "python",
   "pygments_lexer": "ipython3",
   "version": "3.9.23"
  }
 },
 "nbformat": 4,
 "nbformat_minor": 5
}
